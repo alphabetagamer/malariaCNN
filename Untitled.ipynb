{
 "cells": [
  {
   "cell_type": "code",
   "execution_count": 2,
   "metadata": {},
   "outputs": [
    {
     "name": "stderr",
     "output_type": "stream",
     "text": [
      "D:\\Profiles\\lsethia\\AppData\\Local\\Continuum\\anaconda3\\lib\\site-packages\\ipykernel_launcher.py:25: UserWarning: Update your `Conv2D` call to the Keras 2 API: `Conv2D(32, (3, 3), input_shape=(64, 64, 3..., activation=\"relu\")`\n",
      "D:\\Profiles\\lsethia\\AppData\\Local\\Continuum\\anaconda3\\lib\\site-packages\\ipykernel_launcher.py:31: UserWarning: Update your `Conv2D` call to the Keras 2 API: `Conv2D(32, (3, 3), activation=\"relu\")`\n",
      "D:\\Profiles\\lsethia\\AppData\\Local\\Continuum\\anaconda3\\lib\\site-packages\\ipykernel_launcher.py:38: UserWarning: Update your `Dense` call to the Keras 2 API: `Dense(activation=\"relu\", units=128)`\n",
      "D:\\Profiles\\lsethia\\AppData\\Local\\Continuum\\anaconda3\\lib\\site-packages\\ipykernel_launcher.py:39: UserWarning: Update your `Dense` call to the Keras 2 API: `Dense(activation=\"sigmoid\", units=1)`\n"
     ]
    },
    {
     "name": "stdout",
     "output_type": "stream",
     "text": [
      "Found 26531 images belonging to 2 classes.\n",
      "Found 1027 images belonging to 2 classes.\n"
     ]
    },
    {
     "name": "stderr",
     "output_type": "stream",
     "text": [
      "D:\\Profiles\\lsethia\\AppData\\Local\\Continuum\\anaconda3\\lib\\site-packages\\ipykernel_launcher.py:69: UserWarning: The semantics of the Keras 2 argument `steps_per_epoch` is not the same as the Keras 1 argument `samples_per_epoch`. `steps_per_epoch` is the number of batches to draw from the generator at each epoch. Basically steps_per_epoch = samples_per_epoch/batch_size. Similarly `nb_val_samples`->`validation_steps` and `val_samples`->`steps` arguments have changed. Update your method calls accordingly.\n",
      "D:\\Profiles\\lsethia\\AppData\\Local\\Continuum\\anaconda3\\lib\\site-packages\\ipykernel_launcher.py:69: UserWarning: Update your `fit_generator` call to the Keras 2 API: `fit_generator(<keras_pre..., validation_data=<keras_pre..., steps_per_epoch=812, epochs=25, validation_steps=1000)`\n"
     ]
    },
    {
     "name": "stdout",
     "output_type": "stream",
     "text": [
      "Epoch 1/25\n",
      "812/812 [==============================] - 377s 464ms/step - loss: 0.4977 - acc: 0.7532 - val_loss: 1.0992 - val_acc: 0.5783\n",
      "Epoch 2/25\n",
      "812/812 [==============================] - 184s 227ms/step - loss: 0.2267 - acc: 0.9158 - val_loss: 0.3457 - val_acc: 0.8752\n",
      "Epoch 3/25\n",
      "812/812 [==============================] - 184s 226ms/step - loss: 0.1899 - acc: 0.9339 - val_loss: 0.4318 - val_acc: 0.7870\n",
      "Epoch 4/25\n",
      "812/812 [==============================] - 186s 228ms/step - loss: 0.1740 - acc: 0.9417 - val_loss: 0.3142 - val_acc: 0.8911\n",
      "Epoch 5/25\n",
      "812/812 [==============================] - 197s 242ms/step - loss: 0.1632 - acc: 0.9462 - val_loss: 0.3102 - val_acc: 0.8850\n",
      "Epoch 6/25\n",
      "812/812 [==============================] - 373s 459ms/step - loss: 0.1554 - acc: 0.9485 - val_loss: 0.2317 - val_acc: 0.9397\n",
      "Epoch 7/25\n",
      "812/812 [==============================] - 432s 532ms/step - loss: 0.1457 - acc: 0.9516 - val_loss: 0.1839 - val_acc: 0.9415\n",
      "Epoch 8/25\n",
      "812/812 [==============================] - 212s 261ms/step - loss: 0.1417 - acc: 0.9514 - val_loss: 0.1651 - val_acc: 0.9572\n",
      "Epoch 9/25\n",
      "812/812 [==============================] - 181s 223ms/step - loss: 0.1365 - acc: 0.9540 - val_loss: 0.3584 - val_acc: 0.8597\n",
      "Epoch 10/25\n",
      "812/812 [==============================] - 184s 227ms/step - loss: 0.1289 - acc: 0.9571 - val_loss: 0.1977 - val_acc: 0.9406\n",
      "Epoch 11/25\n",
      "812/812 [==============================] - 190s 234ms/step - loss: 0.1280 - acc: 0.9572 - val_loss: 0.2888 - val_acc: 0.9026\n",
      "Epoch 12/25\n",
      "812/812 [==============================] - 185s 228ms/step - loss: 0.1243 - acc: 0.9574 - val_loss: 0.1826 - val_acc: 0.9366\n",
      "Epoch 13/25\n",
      "812/812 [==============================] - 186s 230ms/step - loss: 0.1206 - acc: 0.9587 - val_loss: 0.1852 - val_acc: 0.9388\n",
      "Epoch 14/25\n",
      "812/812 [==============================] - 178s 220ms/step - loss: 0.1203 - acc: 0.9577 - val_loss: 0.1945 - val_acc: 0.9318\n",
      "Epoch 15/25\n",
      "812/812 [==============================] - 190s 234ms/step - loss: 0.1118 - acc: 0.9616 - val_loss: 0.1980 - val_acc: 0.9297\n",
      "Epoch 16/25\n",
      "812/812 [==============================] - 179s 220ms/step - loss: 0.1163 - acc: 0.9605 - val_loss: 0.1985 - val_acc: 0.9329\n",
      "Epoch 17/25\n",
      "812/812 [==============================] - 181s 223ms/step - loss: 0.1082 - acc: 0.9627 - val_loss: 0.2322 - val_acc: 0.9261\n",
      "Epoch 18/25\n",
      "812/812 [==============================] - 179s 220ms/step - loss: 0.1101 - acc: 0.9623 - val_loss: 0.1691 - val_acc: 0.9405\n",
      "Epoch 19/25\n",
      "812/812 [==============================] - 178s 219ms/step - loss: 0.1089 - acc: 0.9628 - val_loss: 0.2551 - val_acc: 0.9141\n",
      "Epoch 20/25\n",
      "812/812 [==============================] - 180s 222ms/step - loss: 0.1007 - acc: 0.9650 - val_loss: 0.1904 - val_acc: 0.9328\n",
      "Epoch 21/25\n",
      "812/812 [==============================] - 178s 219ms/step - loss: 0.1059 - acc: 0.9636 - val_loss: 0.1400 - val_acc: 0.9514\n",
      "Epoch 22/25\n",
      "812/812 [==============================] - 178s 219ms/step - loss: 0.1057 - acc: 0.9635 - val_loss: 0.1614 - val_acc: 0.9444\n",
      "Epoch 23/25\n",
      "812/812 [==============================] - 182s 224ms/step - loss: 0.0984 - acc: 0.9659 - val_loss: 0.2097 - val_acc: 0.9250\n",
      "Epoch 24/25\n",
      "812/812 [==============================] - 180s 222ms/step - loss: 0.0981 - acc: 0.9667 - val_loss: 0.1685 - val_acc: 0.9414\n",
      "Epoch 25/25\n",
      "812/812 [==============================] - 178s 219ms/step - loss: 0.0927 - acc: 0.9667 - val_loss: 0.1629 - val_acc: 0.9380\n"
     ]
    },
    {
     "data": {
      "text/plain": [
       "<keras.callbacks.History at 0x1557e128>"
      ]
     },
     "execution_count": 2,
     "metadata": {},
     "output_type": "execute_result"
    }
   ],
   "source": [
    "# Convolutional Neural Network\n",
    "\n",
    "# Installing Theano\n",
    "# pip install --upgrade --no-deps git+git://github.com/Theano/Theano.git\n",
    "\n",
    "# Installing Tensorflow\n",
    "# Install Tensorflow from the website: https://www.tensorflow.org/versions/r0.12/get_started/os_setup.html\n",
    "\n",
    "# Installing Keras\n",
    "# pip install --upgrade keras\n",
    "\n",
    "# Part 1 - Building the CNN\n",
    "\n",
    "# Importing the Keras libraries and packages\n",
    "from keras.models import Sequential\n",
    "from keras.layers import Convolution2D\n",
    "from keras.layers import MaxPooling2D\n",
    "from keras.layers import Flatten\n",
    "from keras.layers import Dense\n",
    "\n",
    "# Initialising the CNN\n",
    "classifier = Sequential()\n",
    "\n",
    "# Step 1 - Convolution\n",
    "classifier.add(Convolution2D(32, 3, 3, input_shape = (64, 64, 3), activation = 'relu'))\n",
    "\n",
    "# Step 2 - Pooling\n",
    "classifier.add(MaxPooling2D(pool_size = (2, 2)))\n",
    "\n",
    "# Adding a second convolutional layer\n",
    "classifier.add(Convolution2D(32, 3, 3, activation = 'relu'))\n",
    "classifier.add(MaxPooling2D(pool_size = (2, 2)))\n",
    "\n",
    "# Step 3 - Flattening\n",
    "classifier.add(Flatten())\n",
    "\n",
    "# Step 4 - Full connection\n",
    "classifier.add(Dense(output_dim = 128, activation = 'relu'))\n",
    "classifier.add(Dense(output_dim = 1, activation = 'sigmoid'))\n",
    "\n",
    "# Compiling the CNN\n",
    "classifier.compile(optimizer = 'adam', loss = 'binary_crossentropy', metrics = ['accuracy'])\n",
    "\n",
    "# Part 2 - Fitting the CNN to the images\n",
    "\n",
    "from keras.preprocessing.image import ImageDataGenerator\n",
    "\n",
    "train_datagen = ImageDataGenerator(rescale = 1./255,\n",
    "                                   shear_range = 0.2,\n",
    "                                   zoom_range = 0.2,\n",
    "                                   horizontal_flip = True)\n",
    "\n",
    "test_datagen = ImageDataGenerator(rescale = 1./255)\n",
    "\n",
    "training_set = train_datagen.flow_from_directory('/Profiles/lsethia/Desktop/Keras-GAN-master/cell-images-for-detecting-malaria/cell_images/',\n",
    "                                                 target_size = (64, 64),\n",
    "                                                 batch_size = 32,\n",
    "                                                 class_mode = 'binary')\n",
    "\n",
    "test_set = test_datagen.flow_from_directory('/Profiles/lsethia/Desktop/Keras-GAN-master/cell-images-for-detecting-malaria/test_set',\n",
    "                                            target_size = (64, 64),\n",
    "                                            batch_size = 32,\n",
    "                                            class_mode = 'binary')\n",
    "\n",
    "classifier.fit_generator(training_set,\n",
    "                         samples_per_epoch = 26000,\n",
    "                         nb_epoch = 25,\n",
    "                         validation_data = test_set,\n",
    "                         nb_val_samples = 1000)"
   ]
  },
  {
   "cell_type": "code",
   "execution_count": 7,
   "metadata": {},
   "outputs": [],
   "source": [
    "classifier.save('Catdog.h5')"
   ]
  },
  {
   "cell_type": "code",
   "execution_count": 13,
   "metadata": {},
   "outputs": [
    {
     "name": "stdout",
     "output_type": "stream",
     "text": [
      "cat\n"
     ]
    }
   ],
   "source": [
    "from keras.models import load_model\n",
    "from keras.preprocessing import image\n",
    "import numpy as np\n",
    "classifier = load_model('catdog.h5')\n",
    "classifier.compile(loss='binary_crossentropy',optimizer='adam',metrics=['accuracy'])\n",
    "img = image.load_img('/Profiles/lsethia/Desktop/download.jpg', target_size=(64, 64))\n",
    "img = image.img_to_array(img)\n",
    "img=np.expand_dims(img,axis=0)\n",
    "classes = classifier.predict_classes(img)\n",
    "if(classes>0.5):\n",
    "    print(\"dog\")\n",
    "else:\n",
    "    print(\"cat\")\n",
    "    \n",
    "\n",
    "\n",
    "\n"
   ]
  },
  {
   "cell_type": "code",
   "execution_count": null,
   "metadata": {},
   "outputs": [],
   "source": []
  }
 ],
 "metadata": {
  "kernelspec": {
   "display_name": "Python 3",
   "language": "python",
   "name": "python3"
  },
  "language_info": {
   "codemirror_mode": {
    "name": "ipython",
    "version": 3
   },
   "file_extension": ".py",
   "mimetype": "text/x-python",
   "name": "python",
   "nbconvert_exporter": "python",
   "pygments_lexer": "ipython3",
   "version": "3.6.7"
  }
 },
 "nbformat": 4,
 "nbformat_minor": 2
}
